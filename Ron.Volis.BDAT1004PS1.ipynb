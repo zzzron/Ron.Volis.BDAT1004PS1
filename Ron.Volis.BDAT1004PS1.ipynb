{
 "cells": [
  {
   "cell_type": "markdown",
   "metadata": {},
   "source": [
    "### Question 1\n",
    "\n",
    "What data type is each of the following?\n",
    "\n",
    "1. 5\n",
    "\n",
    "2. 5.0\n",
    "\n",
    "3. 5 > 1\n",
    "\n",
    "4. '5'\n",
    "\n",
    "5. 5 * 2\n",
    "\n",
    "6. '5' * 2\n",
    "\n",
    "7. '5' + '2'\n",
    "\n",
    "8. 5 / 2\n",
    "\n",
    "9. 5 // 2\n",
    "\n",
    "10. [5, 2, 1]\n",
    "\n",
    "11. 5 in [1, 4, 6]\n",
    "\n",
    "12. math.pi\n"
   ]
  },
  {
   "cell_type": "code",
   "execution_count": 3,
   "metadata": {},
   "outputs": [
    {
     "name": "stdout",
     "output_type": "stream",
     "text": [
      "1. <class 'int'>\n",
      "2. <class 'float'>\n",
      "3. <class 'bool'>\n",
      "4. <class 'str'>\n",
      "5. <class 'int'>\n",
      "6. <class 'str'>\n",
      "7. <class 'str'>\n",
      "8. <class 'float'>\n",
      "9. <class 'int'>\n",
      "10. <class 'list'>\n",
      "11. <class 'bool'>\n",
      "12. <class 'float'>\n"
     ]
    }
   ],
   "source": [
    "import math\n",
    "\n",
    "q1List = [5,\n",
    "5.0,\n",
    "5 > 1,\n",
    "'5',\n",
    "5 * 2,\n",
    "'5' * 2,\n",
    "'5' + '2',\n",
    "5 / 2,\n",
    "5 // 2,\n",
    "[5, 2, 1],\n",
    "5 in [1, 4, 6],\n",
    "math.pi]\n",
    "\n",
    "for i in range(len(q1List)):\n",
    "    print(f\"{i+1}. {type(q1List[i])}\")"
   ]
  },
  {
   "cell_type": "markdown",
   "metadata": {},
   "source": [
    "### Question 2\n",
    "Write (and evaluate) Python expressions that answer these questions:\n",
    "\n",
    "a. How many letters are there in 'Supercalifragilisticexpialidocious'?\n",
    "\n",
    "b. Does 'Supercalifragilisticexpialidocious' contain 'ice' as a substring? \n",
    "\n",
    "c. Which of the following words is the longest:\n",
    "Supercalifragilisticexpialidocious, Honorificabilitudinitatibus, or\n",
    "Bababadalgharaghtakamminarronnkonn?\n",
    "\n",
    "d. Which composer comes first in the dictionary: 'Berlioz', 'Borodin', 'Brian',\n",
    "'Bartok', 'Bellini', 'Buxtehude', 'Bernstein'. Which one comes last?"
   ]
  },
  {
   "cell_type": "code",
   "execution_count": 24,
   "metadata": {},
   "outputs": [
    {
     "name": "stdout",
     "output_type": "stream",
     "text": [
      "a. Supercalifragilisticexpialidocious has 34 letters.\n",
      "b. True\n",
      "c. Longest word: Supercalifragilisticexpialidocious\n",
      "d. Bartok comes first, Buxtehude comes last\n"
     ]
    }
   ],
   "source": [
    "# a.\n",
    "print(f'a. Supercalifragilisticexpialidocious has {len(\"Supercalifragilisticexpialidocious\")} letters.')\n",
    "\n",
    "# b.\n",
    "print(f\"b. {'ice' in 'Supercalifragilisticexpialidocious'}\")\n",
    "\n",
    "# c.\n",
    "longWords = ['Supercalifragilisticexpialidocious', 'Honorificabilitudinitatibus',\n",
    "         'Bababadalgharaghtakamminarronnkonn']\n",
    "def longestWord(words):\n",
    "    longestWord = \"\"\n",
    "    for w in words:\n",
    "        #print(len(w))\n",
    "        if len(longestWord) < len(w):\n",
    "            longestWord = w\n",
    "    return longestWord\n",
    "print(f'c. Longest word: {longestWord(words)}')\n",
    "\n",
    "# d.\n",
    "composers = ['Berlioz', 'Borodin', 'Brian', 'Bartok', 'Bellini', 'Buxtehude', 'Bernstein']\n",
    "composers.sort()\n",
    "print(f'd. {composers[0]} comes first, {composers[-1]} comes last')"
   ]
  },
  {
   "cell_type": "markdown",
   "metadata": {},
   "source": [
    "### Question 3\n",
    "a. Write a function inside(x,y,x1,y1,x2,y2) that returns True or False\n",
    "depending on whether the point (x,y) lies in the rectangle with lower left\n",
    "corner (x1,y1) and upper right corner (x2,y2).\n",
    "\n",
    "> inside(1,1,0,0,2,3)\n",
    "True\n",
    "\n",
    "> inside(-1,-1,0,0,2,3)\n",
    "False\n",
    "\n",
    "b. Use function inside() from part a. to write an expression that tests whether\n",
    "the point (1,1) lies in both of the following rectangles: one with lower left\n",
    "corner (0.3, 0.5) and upper right corner (1.1, 0.7) and the other with lower\n",
    "left corner (0.5, 0.2) and upper right corner (1.1, 2). "
   ]
  },
  {
   "cell_type": "code",
   "execution_count": 29,
   "metadata": {},
   "outputs": [
    {
     "name": "stdout",
     "output_type": "stream",
     "text": [
      "Rect1: False\n",
      "Rect2: True\n"
     ]
    }
   ],
   "source": [
    "# a.\n",
    "# If x1 < x < x2 and y1 < y < y2, point should be in rectangle\n",
    "def inside(x,y,x1,y1,x2,y2):\n",
    "    return x1 < x < x2 and y1 < y < y2\n",
    "\n",
    "# b.\n",
    "# point(1,1)\n",
    "# rect1 = 0.3, 0.5, 1.1, 0.7\n",
    "# rect2 = 0.5, 0.2, 1.1, 2\n",
    "print(f'Rect1: {inside(1, 1, 0.3, 0.5, 1.1, 0.7)}')\n",
    "print(f'Rect2: {inside(1, 1, 0.5, 0.2, 1.1, 2)}')"
   ]
  },
  {
   "cell_type": "markdown",
   "metadata": {},
   "source": [
    "### Question 4\n",
    "You can turn a word into pig-Latin using the following two rules (simplified):\n",
    "- If the word starts with a consonant, move that letter to the end and append\n",
    "'ay'. For example, 'happy' becomes 'appyhay' and 'pencil' becomes 'encilpay'.\n",
    "\n",
    "\n",
    "- If the word starts with a vowel, simply append 'way' to the end of the word.\n",
    "For example, 'enter' becomes 'enterway' and 'other' becomes 'otherway' . For\n",
    "our purposes, there are 5 vowels: a, e, i, o, u (so we count y as a consonant).\n",
    "\n",
    "\n",
    "Write a function pig() that takes a word (i.e., a string) as input and returns its pigLatin form. Your function should still work if the input word contains upper case\n",
    "characters. Your output should always be lower case however.\n",
    "\n",
    "> pig('happy')\n",
    "'appyhay'\n",
    "\n",
    "> pig('Enter')\n",
    "'enterway' "
   ]
  },
  {
   "cell_type": "code",
   "execution_count": 48,
   "metadata": {},
   "outputs": [
    {
     "name": "stdout",
     "output_type": "stream",
     "text": [
      "appyhay\n",
      "enterway\n"
     ]
    }
   ],
   "source": [
    "def pig(word):\n",
    "    word = word.lower()\n",
    "    vowels = ['a', 'e', 'i', 'o', 'u']\n",
    "    if word[0] in vowels:\n",
    "        word += 'way'\n",
    "    else:\n",
    "        # Return substring of word without first letter\n",
    "        consonant = word[0]\n",
    "        word = word[1:]\n",
    "        word += consonant + 'ay'\n",
    "        \n",
    "    return word\n",
    "\n",
    "print(pig('happy'))\n",
    "print(pig('Enter'))\n",
    "\n",
    "# How to get substring from \n",
    "#https://stackoverflow.com/questions/663171/how-do-i-get-a-substring-of-a-string-in-python"
   ]
  },
  {
   "cell_type": "markdown",
   "metadata": {},
   "source": [
    "### Question 5\n",
    "File bloodtype1.txt records blood-types of patients (A, B, AB, O or OO) at a clinic.\n",
    "Write a function bldcount() that reads the file with name name and reports (i.e.,\n",
    "prints) how many patients there are in each bloodtype.\n",
    "\n",
    "> bldcount('bloodtype.txt')\n",
    "\n",
    "There are 10 patients of blood type A.\n",
    "\n",
    "There is one patient of blood type B.\n",
    "\n",
    "There are 10 patients of blood type AB.\n",
    "\n",
    "There are 12 patients of blood type O.\n",
    "\n",
    "There are no patients of blood type OO.\n"
   ]
  },
  {
   "cell_type": "code",
   "execution_count": 71,
   "metadata": {},
   "outputs": [
    {
     "name": "stdout",
     "output_type": "stream",
     "text": [
      "There are 15 patients of blood type A.\n",
      "There is one patient of blood type B.\n",
      "There are 13 patients of blood type AB.\n",
      "There are 15 patients of blood type O.\n",
      "There are no patients of blood type OO.\n"
     ]
    }
   ],
   "source": [
    "def bldcount(name):\n",
    "    # Returns array of blood types from file\n",
    "    infile = open(name)\n",
    "    patientBldTypes = infile.read().split()\n",
    "    infile.close()\n",
    "    \n",
    "    # Print ammount of patients with each blood type\n",
    "    bldTypes = ['A', 'B', 'AB', 'O', 'OO']\n",
    "    for bt in bldTypes:\n",
    "        count = patientBldTypes.count(bt)\n",
    "        if count == 1:\n",
    "            print(f'There is one patient of blood type {bt}.')\n",
    "        else:\n",
    "            print(f'There are {\"no\" if count == 0 else count} patients of blood type {bt}.')\n",
    "    \n",
    "bldcount('bloodtype1.txt')"
   ]
  },
  {
   "cell_type": "markdown",
   "metadata": {},
   "source": [
    "### Question 6\n",
    "Write a function curconv() that takes as input:\n",
    "\n",
    "1. a currency represented using a string (e.g., 'JPY' for the Japanese Yen or\n",
    "'EUR' for the Euro)\n",
    "\n",
    "\n",
    "2. an amount\n",
    "and then converts and returns the amount in US dollars.\n",
    "\n",
    "> curconv('EUR', 100)\n",
    "122.96544\n",
    "\n",
    "> curconv('JPY', 100)\n",
    "1.241401"
   ]
  },
  {
   "cell_type": "code",
   "execution_count": 158,
   "metadata": {},
   "outputs": [
    {
     "name": "stdout",
     "output_type": "stream",
     "text": [
      "['AUD\\t1.0345157\\tAustralian Dollar', 'CHF\\t1.0237414\\tSwiss Franc', 'CNY\\t0.1550176\\tChinese Yuan', 'DKK\\t0.1651442\\tDanish Krone', 'EUR\\t1.2296544\\tEuro', 'GBP\\t1.5550989\\tBritish Pound', 'HKD\\t0.1270207\\tHong Kong Dollar', 'INR\\t0.0177643\\tIndian Rupee', 'JPY\\t0.01241401\\tJapanese Yen', 'MXN\\t0.0751848\\tMexican Peso', 'MYR\\t0.3145411\\tMalaysian Ringgit', 'NOK\\t0.1677063\\tNorwegian Krone', 'NZD\\t0.8003591\\tNew Zealand Dollar', 'PHP\\t0.0233234\\tPhilippine Peso', 'SEK\\t0.148269\\tSwedish Krona', 'SGD\\t0.788871\\tSingapore Dollar', 'THB\\t0.0313789\\tThai Baht', '']\n"
     ]
    },
    {
     "ename": "TypeError",
     "evalue": "if you give only one argument to maketrans it must be a dict",
     "output_type": "error",
     "traceback": [
      "\u001b[1;31m---------------------------------------------------------------------------\u001b[0m",
      "\u001b[1;31mTypeError\u001b[0m                                 Traceback (most recent call last)",
      "\u001b[1;32m<ipython-input-158-a1efdbc2b389>\u001b[0m in \u001b[0;36m<module>\u001b[1;34m\u001b[0m\n\u001b[0;32m     27\u001b[0m     \u001b[1;32mreturn\u001b[0m \u001b[0mcurrencies\u001b[0m\u001b[1;33m[\u001b[0m\u001b[0mcur\u001b[0m\u001b[1;33m.\u001b[0m\u001b[0mupper\u001b[0m\u001b[1;33m(\u001b[0m\u001b[1;33m)\u001b[0m\u001b[1;33m]\u001b[0m \u001b[1;33m*\u001b[0m \u001b[0mamnt\u001b[0m\u001b[1;33m\u001b[0m\u001b[1;33m\u001b[0m\u001b[0m\n\u001b[0;32m     28\u001b[0m \u001b[1;33m\u001b[0m\u001b[0m\n\u001b[1;32m---> 29\u001b[1;33m \u001b[0mcurconv\u001b[0m\u001b[1;33m(\u001b[0m\u001b[1;34m'EUR'\u001b[0m\u001b[1;33m,\u001b[0m \u001b[1;36m100\u001b[0m\u001b[1;33m)\u001b[0m\u001b[1;33m\u001b[0m\u001b[1;33m\u001b[0m\u001b[0m\n\u001b[0m\u001b[0;32m     30\u001b[0m \u001b[1;33m\u001b[0m\u001b[0m\n\u001b[0;32m     31\u001b[0m \u001b[1;31m#https://stackoverflow.com/questions/354038/how-do-i-check-if-a-string-is-a-number-float\u001b[0m\u001b[1;33m\u001b[0m\u001b[1;33m\u001b[0m\u001b[1;33m\u001b[0m\u001b[0m\n",
      "\u001b[1;32m<ipython-input-158-a1efdbc2b389>\u001b[0m in \u001b[0;36mcurconv\u001b[1;34m(cur, amnt)\u001b[0m\n\u001b[0;32m      9\u001b[0m     \u001b[1;31m# Remove currency discriptions, keep only symbols and rates\u001b[0m\u001b[1;33m\u001b[0m\u001b[1;33m\u001b[0m\u001b[1;33m\u001b[0m\u001b[0m\n\u001b[0;32m     10\u001b[0m     \u001b[1;32mfor\u001b[0m \u001b[0mitem\u001b[0m \u001b[1;32min\u001b[0m \u001b[0mcurList\u001b[0m\u001b[1;33m:\u001b[0m\u001b[1;33m\u001b[0m\u001b[1;33m\u001b[0m\u001b[0m\n\u001b[1;32m---> 11\u001b[1;33m         \u001b[0mtable\u001b[0m \u001b[1;33m=\u001b[0m \u001b[0mitem\u001b[0m\u001b[1;33m.\u001b[0m\u001b[0mmaketrans\u001b[0m\u001b[1;33m(\u001b[0m\u001b[1;34m'\\t'\u001b[0m\u001b[1;33m)\u001b[0m\u001b[1;33m\u001b[0m\u001b[1;33m\u001b[0m\u001b[0m\n\u001b[0m\u001b[0;32m     12\u001b[0m         \u001b[0mitem\u001b[0m\u001b[1;33m.\u001b[0m\u001b[0mtranslate\u001b[0m\u001b[1;33m(\u001b[0m\u001b[0mtable\u001b[0m\u001b[1;33m)\u001b[0m\u001b[1;33m\u001b[0m\u001b[1;33m\u001b[0m\u001b[0m\n\u001b[0;32m     13\u001b[0m         \u001b[1;32mtry\u001b[0m\u001b[1;33m:\u001b[0m\u001b[1;33m\u001b[0m\u001b[1;33m\u001b[0m\u001b[0m\n",
      "\u001b[1;31mTypeError\u001b[0m: if you give only one argument to maketrans it must be a dict"
     ]
    }
   ],
   "source": [
    "def curconv(cur, amnt):\n",
    "    # Get data from file\n",
    "    infile = open('currencies.txt')\n",
    "    curList = infile.read().split('\\n')\n",
    "    infile.close()\n",
    "    \n",
    "    print(curList)\n",
    "    \n",
    "    # Remove currency discriptions, keep only symbols and rates    \n",
    "    for item in curList:\n",
    "        table = item.maketrans('\\t')\n",
    "        item.translate(table)\n",
    "        try:\n",
    "            float(item)\n",
    "        except:\n",
    "            if len(item) > 3:\n",
    "                curList.remove(item)\n",
    "    print(curList)\n",
    "    \n",
    "    # Make dictionary\n",
    "    currencies = {}\n",
    "    for i in range(len(curList)-1):\n",
    "        i = i.split()\n",
    "        currencies.update({i[0]: i[1]})\n",
    "        \n",
    "    # Convert to USD\n",
    "    return currencies[cur.upper()] * amnt\n",
    "        \n",
    "curconv('EUR', 100)\n",
    "\n",
    "#https://stackoverflow.com/questions/354038/how-do-i-check-if-a-string-is-a-number-float"
   ]
  },
  {
   "cell_type": "markdown",
   "metadata": {},
   "source": [
    "### Question 7\n",
    "Each of the following will cause an exception (an error). Identify what type of\n",
    "exception each will cause.\n",
    "\n",
    "1. Trying to add incompatible variables, as in\n",
    "adding 6 + ‘a’\n",
    "\n",
    "    A: TypeError\n",
    "    \n",
    "\n",
    "2. Referring to the 12th item of a list that has only 10 items\n",
    "\n",
    "    A: IndexError\n",
    "    \n",
    "\n",
    "3. Using a value that is out of range for a function’s input, such as calling math.sqrt(-1.0)\n",
    "\n",
    "    A: ValueError\n",
    "    \n",
    "\n",
    "4. Using an undeclared variable, such as print(x)\n",
    "when x has not been defined \n",
    "\n",
    "    A: NameError\n",
    "    \n",
    "\n",
    "5. Trying to open a file that does not exist, such as\n",
    "mistyping the file name or looking in the wrong\n",
    "directory. \n",
    "\n",
    "    A: IOError\n",
    "    "
   ]
  },
  {
   "cell_type": "markdown",
   "metadata": {},
   "source": [
    "### Question 8\n",
    "Encryption is the process of hiding the meaning of a text by substituting letters in the\n",
    "message with other letters, according to some system. If the process is successful, no\n",
    "one but the intended recipient can understand the encrypted message. Cryptanalysis\n",
    "refers to attempts to undo the encryption, even if some details of the encryption are\n",
    "unknown (for example, if an encrypted message has been intercepted). The first step\n",
    "of cryptanalysis is often to build up a table of letter frequencies in the encrypted text.\n",
    "Assume that the string letters is already defined as\n",
    "'abcdefghijklmnopqrstuvwxyz'. Write a function called frequencies()\n",
    "that takes a string as its only parameter, and returns a list of integers, showing the\n",
    "number of times each character appears in the text. Your function may ignore any\n",
    "characters that are not in letters.\n",
    "\n",
    "> frequencies('The quick red fox got bored and went home.')\n",
    "[1, 1, 1, 3, 5, 1, 1, 2, 1, 0, 1, 0, 1, 2, 4, 0, 1, 2, 0, 2,\n",
    "1, 0, 1, 1, 0, 0]\n",
    "\n",
    "> frequencies('apple')\n"
   ]
  },
  {
   "cell_type": "code",
   "execution_count": 170,
   "metadata": {},
   "outputs": [
    {
     "name": "stdout",
     "output_type": "stream",
     "text": [
      "[1, 1, 1, 3, 5, 1, 1, 2, 1, 0, 1, 0, 1, 2, 4, 0, 1, 2, 0, 2, 1, 0, 1, 1, 0, 0]\n",
      "[1, 0, 0, 0, 1, 0, 0, 0, 0, 0, 0, 1, 0, 0, 0, 2, 0, 0, 0, 0, 0, 0, 0, 0, 0, 0]\n"
     ]
    }
   ],
   "source": [
    "def frequencies(msg):\n",
    "    msg.lower()\n",
    "    letters = 'abcdefghijklmnopqrstuvwxyz'\n",
    "    \n",
    "    counters = []\n",
    "    for letter in letters:\n",
    "        counters.append(msg.count(letter))\n",
    "        \n",
    "    return counters\n",
    "\n",
    "print(frequencies('The quick red fox got bored and went home.'))\n",
    "print(frequencies('apple'))"
   ]
  },
  {
   "cell_type": "markdown",
   "metadata": {},
   "source": [
    "### Question 9\n",
    "The Sieve of Erastophenes is an algorithm -- known to ancient Greeks -- that finds\n",
    "all prime numbers up to a given number n. It does this by first creating a list L from\n",
    "2 to n and an (initially empty) list primeL. The algorithm then takes the first number\n",
    "in list L (2) and appends it to list primeL, and then removes 2 and all its multiples\n",
    "(4,6,8,10,12, ...) from L. The algorithm then takes the new first number in L (3) and\n",
    "appends it to list primeL, and then removes from L 3 and all its remaining multiples\n",
    "(9,15,21,...). So, in every iteration, the first number of list L is appended to list\n",
    "primeL and then it and its multiples are removed from list L. The iterations stop\n",
    "when list L becomes empty. Write a function sieve() that takes as input a positive\n",
    "integer n, implements the above algorithm, and returns a list of all prime numbers up\n",
    "to n.\n",
    "\n",
    "> sieve(56)\n",
    "[2, 3, 5, 7, 11, 13, 17, 19, 23, 29, 31, 37, 41,\n",
    "43, 47, 53]\n",
    "\n",
    "> sieve(368)\n",
    "[2, 3, 5, 7, 11, 13, 17, 19, 23, 29, 31, 37, 41,\n",
    "43, 47, 53, 59, 61, 67, 71, 73, 79, 83, 89, 97,\n",
    "101, 103, 107, 109, 113, 127, 131, 137, 139, 149,\n",
    "151, 157, 163, 167, 173, 179, 181, 191, 193, 197,\n",
    "199, 211, 223, 227, 229, 233, 239, 241, 251, 257,\n",
    "263, 269, 271, 277, 281, 283, 293, 307, 311, 313,\n",
    "317, 331, 337, 347, 349, 353, 359, 367]\n",
    "\n",
    "> sieve(32)\n",
    "[2, 3, 5, 7, 11, 13, 17, 19, 23, 29, 31]\n"
   ]
  },
  {
   "cell_type": "code",
   "execution_count": 185,
   "metadata": {},
   "outputs": [
    {
     "name": "stdout",
     "output_type": "stream",
     "text": [
      "[2, 3, 5, 7, 11, 13, 17, 19]\n",
      "[2, 3, 5, 7, 11, 13, 17, 19, 23, 29, 31, 37, 41, 43, 47, 53, 59, 61, 67, 71, 73, 79, 83, 89, 97, 101, 103, 107, 109, 113, 127, 131, 137, 139, 149, 151, 157]\n",
      "[2, 3, 5, 7, 11, 13]\n"
     ]
    }
   ],
   "source": [
    "def sieve(n):\n",
    "    L = []\n",
    "    primeL = []\n",
    "    \n",
    "    # populate L\n",
    "    for i in range(2, n+1):\n",
    "        L.append(i)\n",
    "        \n",
    "    for i in L:\n",
    "        # remove first element\n",
    "        first = L.pop(0)\n",
    "        primeL.append(first)\n",
    "        \n",
    "        # remove every multiple of first element\n",
    "        for j in L:\n",
    "            if j % first == 0:\n",
    "                L.remove(j)\n",
    "    \n",
    "    return primeL\n",
    "\n",
    "print(sieve(56))\n",
    "print(sieve(368))\n",
    "print(sieve(32))"
   ]
  },
  {
   "cell_type": "markdown",
   "metadata": {},
   "source": [
    "### Question 10\n",
    "Implement function triangleArea(a,b,c) that takes as input the lengths of the 3\n",
    "sides of a triangle and returns the area of the triangle. By Heron's formula, the area\n",
    "of a triangle with side lengths a, b, and c is\n",
    "$$s(s - a)(s -b)(s -c)\n",
    ", where\n",
    "s = (a+b+c)/2.\n",
    "\n",
    "> triangleArea(2,2,2)\n",
    "1.7320508075688772"
   ]
  },
  {
   "cell_type": "code",
   "execution_count": 186,
   "metadata": {},
   "outputs": [
    {
     "data": {
      "text/plain": [
       "1.7320508075688772"
      ]
     },
     "execution_count": 186,
     "metadata": {},
     "output_type": "execute_result"
    }
   ],
   "source": [
    "def triangleArea(a, b, c):\n",
    "    s = (a+b+c)/2\n",
    "    return math.sqrt(s * (s-a) * (s-b) * (s-c))\n",
    "\n",
    "triangleArea(2,2,2)"
   ]
  },
  {
   "cell_type": "code",
   "execution_count": null,
   "metadata": {},
   "outputs": [],
   "source": []
  }
 ],
 "metadata": {
  "kernelspec": {
   "display_name": "Python 3",
   "language": "python",
   "name": "python3"
  },
  "language_info": {
   "codemirror_mode": {
    "name": "ipython",
    "version": 3
   },
   "file_extension": ".py",
   "mimetype": "text/x-python",
   "name": "python",
   "nbconvert_exporter": "python",
   "pygments_lexer": "ipython3",
   "version": "3.8.3"
  }
 },
 "nbformat": 4,
 "nbformat_minor": 4
}
